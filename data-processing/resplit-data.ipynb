{
 "cells": [
  {
   "cell_type": "code",
   "execution_count": 1,
   "id": "b032fe98-b029-46ed-a351-c589ca592361",
   "metadata": {},
   "outputs": [],
   "source": [
    "original = 'livestalk-16'\n",
    "new = 'livestalk-resplit-v2-720'"
   ]
  },
  {
   "cell_type": "code",
   "execution_count": 2,
   "id": "39e59507-5c5d-4fd5-9e47-8673f6fa488d",
   "metadata": {},
   "outputs": [],
   "source": [
    "from shutil import copyfile\n",
    "import os\n",
    "import glob\n",
    "import pandas as pd"
   ]
  },
  {
   "cell_type": "code",
   "execution_count": 3,
   "id": "1e0f55c2-8d72-46fe-83ff-2e07573db573",
   "metadata": {
    "tags": []
   },
   "outputs": [],
   "source": [
    "def make_folder(path):\n",
    "    if not os.path.exists(path):\n",
    "        os.mkdir(path)\n",
    "        os.mkdir(os.path.join(path,'train'))\n",
    "        os.mkdir(os.path.join(path,'train','images'))\n",
    "        os.mkdir(os.path.join(path,'train','labels'))\n",
    "\n",
    "        os.mkdir(os.path.join(path,'valid'))\n",
    "        os.mkdir(os.path.join(path,'valid','images'))\n",
    "        os.mkdir(os.path.join(path,'valid','labels'))\n",
    "        \n",
    "        os.mkdir(os.path.join(path,'test'))\n",
    "        os.mkdir(os.path.join(path,'test','images'))\n",
    "        os.mkdir(os.path.join(path,'test','labels'))        \n",
    "        \n",
    "        print(f'folders created: {path}')\n",
    "        \n",
    "    else:\n",
    "        print(f'a folder already exists here: {path}')"
   ]
  },
  {
   "cell_type": "markdown",
   "id": "f58d5d08-3e86-466d-b913-2d73299033c6",
   "metadata": {
    "tags": []
   },
   "source": [
    "### Identify folder for original and resplit"
   ]
  },
  {
   "cell_type": "code",
   "execution_count": 4,
   "id": "07b33054-d7e8-40e4-bd4b-4047af38e6d7",
   "metadata": {},
   "outputs": [
    {
     "name": "stdout",
     "output_type": "stream",
     "text": [
      "folders created: /home/omar/datasci/w251-DL/livestalk/livestalk-resplit-v2-720\n"
     ]
    }
   ],
   "source": [
    "orig_path = os.path.join(os.getcwd(),original)\n",
    "new_path = os.path.join(os.getcwd(),new)\n",
    "make_folder(new_path)\n",
    "\n",
    "yaml_txt = \"\"\"names:\n",
    "- cow\n",
    "nc: 1\n",
    "train: {0}/train/images\n",
    "val: {0}/valid/images\n",
    "\"\"\".format(new_path)\n",
    "\n",
    "with open(os.path.join(new_path,'data.yaml'),'w') as f:\n",
    "    f.write(yaml_txt)\n",
    "\n",
    "\n",
    "\n",
    "train_path = os.path.join(orig_path,'train')\n",
    "valid_path = os.path.join(orig_path,'valid')\n",
    "test_path = os.path.join(orig_path,'test')"
   ]
  },
  {
   "cell_type": "markdown",
   "id": "684a6985-b509-4b1a-a3bb-1b2ffdffc04a",
   "metadata": {},
   "source": [
    "### Get counts in old folder"
   ]
  },
  {
   "cell_type": "code",
   "execution_count": 5,
   "id": "a1eb3a82-a52b-4521-9f0d-8ec4b4269f5b",
   "metadata": {},
   "outputs": [
    {
     "name": "stdout",
     "output_type": "stream",
     "text": [
      "Counts in old location:\n",
      "Training: 731\n",
      "Validation: 214\n",
      "Test: 192\n"
     ]
    },
    {
     "data": {
      "text/plain": [
       "0044    444\n",
       "0045    262\n",
       "0043    137\n",
       "0047    136\n",
       "0046    120\n",
       "0048     38\n",
       "dtype: int64"
      ]
     },
     "execution_count": 5,
     "metadata": {},
     "output_type": "execute_result"
    }
   ],
   "source": [
    "train_images = glob.glob(os.path.join(orig_path,'train','images','*.jpg'))\n",
    "train_labels = glob.glob(os.path.join(orig_path,'train','labels','*.txt'))\n",
    "\n",
    "valid_images = glob.glob(os.path.join(orig_path,'valid','images','*.jpg'))\n",
    "valid_labels = glob.glob(os.path.join(orig_path,'valid','labels','*.txt'))\n",
    "\n",
    "test_images = glob.glob(os.path.join(orig_path,'test','images','*.jpg'))\n",
    "test_labels = glob.glob(os.path.join(orig_path,'test','labels','*.txt'))\n",
    "\n",
    "all_files = train_images + valid_images + test_images\n",
    "print('Counts in old location:')\n",
    "print(f'Training: {len(train_images)}')\n",
    "print(f'Validation: {len(valid_images)}')\n",
    "print(f'Test: {len(test_images)}')\n",
    "\n",
    "\n",
    "all_names = [x.rsplit('/',1)[-1].rsplit('.',1)[0] for x in all_files]\n",
    "mov_names = [x.rsplit('_',1)[0].split('_')[1] for x in all_names]\n",
    "names = pd.Series(mov_names)\n",
    "names.value_counts()"
   ]
  },
  {
   "cell_type": "code",
   "execution_count": 6,
   "id": "60c2b57b-402c-4535-b63d-ea9852b1ce7e",
   "metadata": {},
   "outputs": [
    {
     "name": "stdout",
     "output_type": "stream",
     "text": [
      "Old Distribution\n",
      "Training images:\n",
      "0044    264\n",
      "0045    157\n",
      "0043    103\n",
      "0047     93\n",
      "0046     83\n",
      "0048     31\n",
      "dtype: int64\n",
      "\n",
      "Validation images:\n",
      "0044    74\n",
      "0045    56\n",
      "0047    28\n",
      "0046    27\n",
      "0043    22\n",
      "0048     7\n",
      "dtype: int64\n",
      "\n",
      "Test images:\n",
      "0044    106\n",
      "0045     49\n",
      "0047     15\n",
      "0043     12\n",
      "0046     10\n",
      "dtype: int64\n"
     ]
    }
   ],
   "source": [
    "def get_counts(files):\n",
    "    names = [x.rsplit('/',1)[-1].rsplit('.',1)[0].rsplit('_',1)[0].split('_')[1] for x in files]\n",
    "    names = pd.Series(names)\n",
    "    print(names.value_counts())\n",
    "    \n",
    "print('Old Distribution')\n",
    "print('Training images:')\n",
    "get_counts(train_images)\n",
    "print('\\nValidation images:')\n",
    "get_counts(valid_images)\n",
    "print('\\nTest images:')\n",
    "get_counts(test_images)"
   ]
  },
  {
   "cell_type": "markdown",
   "id": "c6cf6591-bed4-42a4-9a23-ff35ffde371a",
   "metadata": {},
   "source": [
    "### Copy files to new location"
   ]
  },
  {
   "cell_type": "code",
   "execution_count": 7,
   "id": "560f8460-33ca-4b2c-b676-4a6dda1eb88a",
   "metadata": {},
   "outputs": [],
   "source": [
    "\n",
    "def copy_files(images,labels,new_path):\n",
    "    assert len(images) == len(labels)\n",
    "    \n",
    "    images = sorted(images)\n",
    "    labels = sorted(labels)\n",
    "    \n",
    "    for image,label in zip(images,labels):\n",
    "        if \"DJI_0043\" in image:\n",
    "            location = 'valid'\n",
    "        if \"DJI_0044\" in image:\n",
    "            location = 'train'\n",
    "        if \"DJI_0045\" in image:\n",
    "            location = 'train'\n",
    "        if \"DJI_0046\" in image:\n",
    "            location = 'test'\n",
    "        if \"DJI_0047\" in image:\n",
    "            location = 'train'\n",
    "        if \"DJI_0048\" in image:\n",
    "            location = 'train'\n",
    "    \n",
    "        image_file = image.rsplit('/',1)[-1].rsplit('.',1)[0]\n",
    "        label_file = label.rsplit('/',1)[-1].rsplit('.',1)[0]\n",
    "    \n",
    "        assert image_file == label_file, 'lists not aligned'\n",
    "    \n",
    "        new_image_path = os.path.join(new_path,location,'images',image.rsplit('/',1)[-1])\n",
    "        new_label_path = os.path.join(new_path,location,'labels',label.rsplit('/',1)[-1])\n",
    "        \n",
    "        copyfile(image,new_image_path)\n",
    "        copyfile(label,new_label_path)\n",
    "    \n",
    "                                      \n",
    "copy_files(train_images,train_labels,new_path)\n",
    "copy_files(valid_images,valid_labels,new_path)\n",
    "copy_files(test_images,test_labels,new_path)"
   ]
  },
  {
   "cell_type": "markdown",
   "id": "7980816e-ab8f-43d6-8b3b-b47b982c1794",
   "metadata": {},
   "source": [
    "### Get counts in new location"
   ]
  },
  {
   "cell_type": "code",
   "execution_count": 8,
   "id": "2f329f7f-f8bd-4ccf-a2c5-948d5c5d7e5c",
   "metadata": {},
   "outputs": [
    {
     "name": "stdout",
     "output_type": "stream",
     "text": [
      "Totals\n",
      "Number of training images in new location: 880\n",
      "Number of validation images in new location: 137\n",
      "Number of test images in new location: 120\n"
     ]
    }
   ],
   "source": [
    "new_train = glob.glob(os.path.join(new_path,'train','images','*.jpg'))\n",
    "new_valid = glob.glob(os.path.join(new_path,'valid','images','*.jpg'))\n",
    "new_test = glob.glob(os.path.join(new_path,'test','images','*.jpg'))\n",
    "\n",
    "new_train_labels = glob.glob(os.path.join(new_path,'train','labels','*.txt'))\n",
    "new_valid_labels = glob.glob(os.path.join(new_path,'valid','labels','*.txt'))\n",
    "new_test_labels = glob.glob(os.path.join(new_path,'test','labels','*.txt'))\n",
    "\n",
    "print('Totals')\n",
    "print(f'Number of training images in new location: {len(new_train)}')\n",
    "print(f'Number of validation images in new location: {len(new_valid)}')\n",
    "print(f'Number of test images in new location: {len(new_test)}')"
   ]
  },
  {
   "cell_type": "code",
   "execution_count": 9,
   "id": "63c145a1-e462-4565-93a2-abd62994b13c",
   "metadata": {},
   "outputs": [
    {
     "name": "stdout",
     "output_type": "stream",
     "text": [
      "NEW Distribution\n",
      "Training LABELS:\n",
      "0044    444\n",
      "0045    262\n",
      "0047    136\n",
      "0048     38\n",
      "dtype: int64\n",
      "\n",
      "Validation LABELS:\n",
      "0043    137\n",
      "dtype: int64\n",
      "\n",
      "Test LABELS:\n",
      "0046    120\n",
      "dtype: int64\n"
     ]
    }
   ],
   "source": [
    "print('NEW Distribution')\n",
    "print('Training LABELS:')\n",
    "get_counts(new_train_labels)\n",
    "print('\\nValidation LABELS:')\n",
    "get_counts(new_valid_labels)\n",
    "print('\\nTest LABELS:')\n",
    "get_counts(new_test_labels)"
   ]
  },
  {
   "cell_type": "code",
   "execution_count": 10,
   "id": "45f6213b-590b-4f8e-a56a-4c20475edfbe",
   "metadata": {},
   "outputs": [
    {
     "name": "stdout",
     "output_type": "stream",
     "text": [
      "NEW Distribution\n",
      "Training images:\n",
      "0044    444\n",
      "0045    262\n",
      "0047    136\n",
      "0048     38\n",
      "dtype: int64\n",
      "\n",
      "Validation images:\n",
      "0043    137\n",
      "dtype: int64\n",
      "\n",
      "Test images:\n",
      "0046    120\n",
      "dtype: int64\n"
     ]
    }
   ],
   "source": [
    "print('NEW Distribution')\n",
    "print('Training images:')\n",
    "get_counts(new_train)\n",
    "print('\\nValidation images:')\n",
    "get_counts(new_valid)\n",
    "print('\\nTest images:')\n",
    "get_counts(new_test)"
   ]
  }
 ],
 "metadata": {
  "kernelspec": {
   "display_name": "Python 3 (ipykernel)",
   "language": "python",
   "name": "python3"
  },
  "language_info": {
   "codemirror_mode": {
    "name": "ipython",
    "version": 3
   },
   "file_extension": ".py",
   "mimetype": "text/x-python",
   "name": "python",
   "nbconvert_exporter": "python",
   "pygments_lexer": "ipython3",
   "version": "3.9.6"
  }
 },
 "nbformat": 4,
 "nbformat_minor": 5
}
