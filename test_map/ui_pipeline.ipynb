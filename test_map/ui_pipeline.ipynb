{
 "cells": [
  {
   "cell_type": "code",
   "execution_count": 1,
   "metadata": {
    "collapsed": true
   },
   "outputs": [],
   "source": [
    "# Standard imports + exif tool parser\n",
    "from os import listdir\n",
    "import pandas as pd\n",
    "import exiftool\n",
    "\n",
    "# Field of view calculation dependencies\n",
    "from math import degrees, radians, atan\n",
    "from pyproj import Proj\n",
    "from camera_calculator import CameraCalculator\n",
    "\n",
    "# Imports for the UI\n",
    "import folium\n",
    "import geopandas as gpd\n",
    "from shapely.geometry import Polygon\n",
    "import base64"
   ]
  },
  {
   "cell_type": "markdown",
   "source": [
    "The below function accepts a single .jpg image, and performs the necessary exif extractions needed for the UI."
   ],
   "metadata": {
    "collapsed": false,
    "pycharm": {
     "name": "#%% md\n"
    }
   }
  },
  {
   "cell_type": "code",
   "execution_count": 2,
   "outputs": [],
   "source": [
    "def get_exif(image_name=\"test_images/DJI_0186.JPG\"):\n",
    "    \"\"\"\n",
    "\n",
    "    :param image_name: Reference to the .jpg name pulled off the drone\n",
    "    :return: Single-row dataframe that can be appended to a blank temporary dataframe\n",
    "    \"\"\"\n",
    "    # Grab the metadata for the image\n",
    "    with exiftool.ExifTool() as et:\n",
    "        metadata = et.get_metadata(image_name)\n",
    "\n",
    "    exif_df = pd.DataFrame.from_dict([metadata]) # dict needs to be wrapped in list\n",
    "\n",
    "    # keep only necessary fields for bbox calculation\n",
    "    exif_df = exif_df[[\"File:FileName\", \"MakerNotes:CameraPitch\", \"MakerNotes:CameraYaw\", \"MakerNotes:CameraRoll\",\n",
    "                       \"EXIF:GPSAltitude\", \"EXIF:GPSLatitude\", \"EXIF:GPSLongitude\"]]\n",
    "\n",
    "    # TODO: MAKE SURE THE SIGNS ON LAT LONG ARE CORRECT\n",
    "    exif_df[\"EXIF:GPSLongitude\"] = -1 * exif_df[\"EXIF:GPSLongitude\"]\n",
    "\n",
    "    # Lat Long conversion from decimal degrees to UTM\n",
    "    # TODO: First, set the UTM zone object\n",
    "    pp = Proj(\"+proj=utm +zone=10 +south +ellps=WGS84 +datum=WGS84 +units=m +no_defs\")\n",
    "\n",
    "    # Convert the centroid lat, long to UTM\n",
    "    c_x_utm, c_y_utm = pp(exif_df[\"EXIF:GPSLongitude\"].values, exif_df[\"EXIF:GPSLatitude\"].values)\n",
    "    exif_df[\"centroid_x_utm\"] = c_x_utm\n",
    "    exif_df[\"centroid_y_utm\"] = c_y_utm - 10000000  # TODO: Figure out why northing gives incorrect value (+10,000,000)\n",
    "\n",
    "    # DJ Mavic Mini and DJ Mavic Pro sensor specs. These are all fixed values\n",
    "    img_width_max_px = 4000\n",
    "    img_height_max_px = 3000\n",
    "    img_width_cropped = 4000\n",
    "    img_height_cropped = 2250\n",
    "    sensor_width_mm = 6.3  # not contained in exif\n",
    "    sensor_height_mm = 4.7  # not contained in exif\n",
    "    focal_length = 4.49\n",
    "\n",
    "    # We need to calculate the horizontal and vertical field of view from the cropped or effective sensor size\n",
    "    # see: https://mavicpilots.com/threads/mavic-mini-focal-length-versus-field-of-view.85622/\n",
    "    cropped_sensor_width = img_width_cropped / (img_width_max_px / sensor_width_mm)\n",
    "    cropped_sensor_height = img_height_cropped / (img_height_max_px / sensor_height_mm)\n",
    "    fov_h = degrees(atan(cropped_sensor_width / (2 * focal_length))) * 2\n",
    "    fov_v = degrees(atan(cropped_sensor_height / (2 * focal_length))) * 2\n",
    "\n",
    "    exif_df[\"fov_h\"] = fov_h\n",
    "    exif_df[\"fov_v\"] = fov_v\n",
    "\n",
    "    # Calculate the field of view using the getBoundingPolygon method in camera_calculator.py\n",
    "    c = CameraCalculator()\n",
    "\n",
    "    exif_df[\"bbox_vec\"] = exif_df.apply(lambda row: c.getBoundingPolygon(\n",
    "        radians(row[\"fov_h\"]),\n",
    "        radians(row[\"fov_v\"]),\n",
    "        row[\"EXIF:GPSAltitude\"],\n",
    "        radians(row[\"MakerNotes:CameraYaw\"]),\n",
    "        radians(row[\"MakerNotes:CameraRoll\"]),\n",
    "        radians(row[\"MakerNotes:CameraPitch\"]),\n",
    "        row[\"centroid_x_utm\"],\n",
    "        row[\"centroid_y_utm\"]\n",
    "    ), axis=1)\n",
    "\n",
    "    return exif_df"
   ],
   "metadata": {
    "collapsed": false,
    "pycharm": {
     "name": "#%%\n"
    }
   }
  },
  {
   "cell_type": "markdown",
   "source": [
    "A single-row dataframe is returned like so:"
   ],
   "metadata": {
    "collapsed": false,
    "pycharm": {
     "name": "#%% md\n"
    }
   }
  },
  {
   "cell_type": "code",
   "execution_count": 3,
   "outputs": [
    {
     "data": {
      "text/plain": "  File:FileName  MakerNotes:CameraPitch  MakerNotes:CameraYaw  \\\n0  DJI_0198.JPG              -89.900002                  -0.7   \n\n   MakerNotes:CameraRoll  EXIF:GPSAltitude  EXIF:GPSLatitude  \\\n0                      0            42.478         37.362275   \n\n   EXIF:GPSLongitude  centroid_x_utm  centroid_y_utm      fov_h      fov_v  \\\n0         -122.07099   582266.795813    4.135467e+06  70.103852  42.863885   \n\n                                            bbox_vec  \n0  [<vector3d.vector.Vector object at 0x127f52940...  ",
      "text/html": "<div>\n<style scoped>\n    .dataframe tbody tr th:only-of-type {\n        vertical-align: middle;\n    }\n\n    .dataframe tbody tr th {\n        vertical-align: top;\n    }\n\n    .dataframe thead th {\n        text-align: right;\n    }\n</style>\n<table border=\"1\" class=\"dataframe\">\n  <thead>\n    <tr style=\"text-align: right;\">\n      <th></th>\n      <th>File:FileName</th>\n      <th>MakerNotes:CameraPitch</th>\n      <th>MakerNotes:CameraYaw</th>\n      <th>MakerNotes:CameraRoll</th>\n      <th>EXIF:GPSAltitude</th>\n      <th>EXIF:GPSLatitude</th>\n      <th>EXIF:GPSLongitude</th>\n      <th>centroid_x_utm</th>\n      <th>centroid_y_utm</th>\n      <th>fov_h</th>\n      <th>fov_v</th>\n      <th>bbox_vec</th>\n    </tr>\n  </thead>\n  <tbody>\n    <tr>\n      <th>0</th>\n      <td>DJI_0198.JPG</td>\n      <td>-89.900002</td>\n      <td>-0.7</td>\n      <td>0</td>\n      <td>42.478</td>\n      <td>37.362275</td>\n      <td>-122.07099</td>\n      <td>582266.795813</td>\n      <td>4.135467e+06</td>\n      <td>70.103852</td>\n      <td>42.863885</td>\n      <td>[&lt;vector3d.vector.Vector object at 0x127f52940...</td>\n    </tr>\n  </tbody>\n</table>\n</div>"
     },
     "execution_count": 3,
     "metadata": {},
     "output_type": "execute_result"
    }
   ],
   "source": [
    "image_name = \"test_images/DJI_0198.JPG\"\n",
    "get_exif(image_name=image_name)"
   ],
   "metadata": {
    "collapsed": false,
    "pycharm": {
     "name": "#%%\n"
    }
   }
  },
  {
   "cell_type": "markdown",
   "source": [
    "Next, we have the build_map() function, which relies on unpack_bbox(). Only build_map() will need to be explicitly called.\n",
    "It accepts a datframe of the exif images plus cow counts (integer) and writes an .html object to\n",
    "the current working directory."
   ],
   "metadata": {
    "collapsed": false,
    "pycharm": {
     "name": "#%% md\n"
    }
   }
  },
  {
   "cell_type": "code",
   "execution_count": null,
   "outputs": [],
   "source": [
    "def unpack_bbox(bbox):\n",
    "    \"\"\"\n",
    "    Utility function for build_map(). Takes in vector object from camera_calculator.py\n",
    "    and converts it into a polygon object for map purposes.\n",
    "    :param bbox:\n",
    "    :return: Polygon object which is used to plot on folium map\n",
    "    \"\"\"\n",
    "    x_list = []\n",
    "    y_list = []\n",
    "    for i, p in enumerate(bbox):\n",
    "        x_list.append(p.x)\n",
    "        y_list.append(p.y)\n",
    "    # TODO: Ensure correct projection\n",
    "    pp2 = Proj(\"+proj=utm +zone=10 +north +ellps=WGS84 +datum=WGS84 +units=m +no_defs\")\n",
    "    long_list, lat_list = pp2(x_list, y_list, inverse=True)\n",
    "    bbox_geom = Polygon(zip(long_list, lat_list))\n",
    "    return bbox_geom\n",
    "\n",
    "def build_map(exif_df, img_dir=\"test_images/\", sampling_rate=1):\n",
    "    \"\"\"\n",
    "    Call this function to generate the UI (writes .html map object).\n",
    "    :param exif_df: In-memory dataframe that has the exif data and cow counts\n",
    "    :param img_dir: Directory where images are stored (probably s3)\n",
    "    :param sampling_rate: Preserves only every nth image. Used to ensure minimal overlap\n",
    "    :return:\n",
    "    \"\"\"\n",
    "    # Convert the resultant field of view vector into a valid geometry format for geopandas\n",
    "    exif_df[\"bbox_poly_geom\"] = exif_df.apply(lambda row: unpack_bbox(row[\"bbox_vec\"]), axis=1)\n",
    "    gdf = gpd.GeoDataFrame(exif_df, crs=\"EPSG:4326\", geometry=exif_df[\"bbox_poly_geom\"])\n",
    "\n",
    "    # TODO: Adjust the sampling rate so that we are only counting field of views that have little to no overlap\n",
    "    filtered_gdf = gdf.iloc[::sampling_rate, :]\n",
    "\n",
    "    # s3_directory = \"https://w251-livestalk-project-test.s3.us-east-2.amazonaws.com/images/\" # Used if we're loading a URL\n",
    "\n",
    "    # Add markers, cow counts, and image thumbnails for every image to the map.\n",
    "    for c_lat, c_long, img_name, cow_count in zip(filtered_gdf[\"EXIF:GPSLatitude\"],\n",
    "                                                  filtered_gdf[\"EXIF:GPSLongitude\"],\n",
    "                                                  filtered_gdf[\"File:FileName\"],\n",
    "                                                  filtered_gdf[\"cow_count\"]):\n",
    "\n",
    "        encoded = base64.b64encode(open(img_dir + img_name, 'rb').read())\n",
    "        html = '<img src=\"data:image/png;base64,{}\">'.format\n",
    "        iframe = folium.IFrame(html(encoded.decode('UTF-8')), width=400, height=225)\n",
    "        popup = folium.Popup(iframe, max_width=400)\n",
    "\n",
    "        # uncomment this instead if you want to just link to the image in the tooltip rather than show on map\n",
    "        # img_url = s3_directory + img_name\n",
    "        # popup_url = \"<a href=\" + img_url+ \">\" + str(cow_count) + \" cows detected</a>\"\n",
    "\n",
    "        folium.Marker(location=[c_lat, c_long], tooltip=\"Cow count (Yolov5):\"+str(cow_count), popup=popup,\n",
    "        icon=folium.Icon(color = 'gray')).add_to(map) # set popup=popup_url if you just want to link the thumbnail in s3\n",
    "\n",
    "    # Writes out html map object into current working directory (can be the same s3 bucket!)\n",
    "    map.save('livestalk_map_v2.html')"
   ],
   "metadata": {
    "collapsed": false,
    "pycharm": {
     "name": "#%%\n"
    }
   }
  },
  {
   "cell_type": "markdown",
   "source": [
    "Finally to generate a \"live\" map, we might be able to set it up by creating a running dataframe\n",
    "of the exif data and counts, and re-generating the map at some regular interval. Pseudocode below:"
   ],
   "metadata": {
    "collapsed": false,
    "pycharm": {
     "name": "#%% md\n"
    }
   }
  },
  {
   "cell_type": "code",
   "execution_count": null,
   "outputs": [],
   "source": [
    "# Create an empty dataframe that will keep a running summary of all image exif data and cow counts\n",
    "map_df = pd.DataFrame()\n",
    "\n",
    "# Add new exif rows when in listening mode\n",
    "while MQTT listens:\n",
    "    # Extract exif data from the newest image\n",
    "    map_df = map_df.append(get_exif(new_image.jpg))\n",
    "    # Insert the yolov5 cow count (int) into a new column\n",
    "    # Generate latest html object\n",
    "    build_map(exif_df=map_df, img_dir=\"test_images/\", sampling_rate=1)"
   ],
   "metadata": {
    "collapsed": false,
    "pycharm": {
     "name": "#%%\n"
    }
   }
  }
 ],
 "metadata": {
  "kernelspec": {
   "name": "pycharm-dd235cc",
   "language": "python",
   "display_name": "PyCharm (livestalk)"
  },
  "language_info": {
   "codemirror_mode": {
    "name": "ipython",
    "version": 2
   },
   "file_extension": ".py",
   "mimetype": "text/x-python",
   "name": "python",
   "nbconvert_exporter": "python",
   "pygments_lexer": "ipython2",
   "version": "2.7.6"
  }
 },
 "nbformat": 4,
 "nbformat_minor": 0
}