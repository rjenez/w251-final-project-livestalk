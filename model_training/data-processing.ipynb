{
 "cells": [
  {
   "cell_type": "markdown",
   "id": "685d3a38-bf7d-40fc-a20f-7adc2713c356",
   "metadata": {
    "tags": []
   },
   "source": [
    "# Data Processing\n",
    "\n",
    "This notebook can be used to download data from Roboflow using the Roboflow API for multiple versions that have been created through different users labeling data in Roboflow, and combine them into one dataset. \n",
    "\n",
    "\n",
    "This notebook will \n",
    "\n",
    "#### Install Required Packages\n"
   ]
  },
  {
   "cell_type": "code",
   "execution_count": 1,
   "id": "48808b8f-4f77-4b08-9933-d4e7c158c337",
   "metadata": {},
   "outputs": [],
   "source": [
    "!pip install -q roboflow"
   ]
  },
  {
   "cell_type": "markdown",
   "id": "d769bdf1-b9c9-4fe9-a6c8-c12aa7e1d0e1",
   "metadata": {
    "tags": []
   },
   "source": [
    "### Download labeled image data from Roboflow\n",
    "\n",
    "This code will download each version from the livestalk project using the Roboflow API and place them in folders based on version number (eg livestalk-1, livestalk-2, etc.)"
   ]
  },
  {
   "cell_type": "code",
   "execution_count": 2,
   "id": "fe9e3931-7e0c-4d59-a1c8-6dfebfafa3ed",
   "metadata": {},
   "outputs": [
    {
     "name": "stdout",
     "output_type": "stream",
     "text": [
      "loading Roboflow workspace...\n",
      "loading Roboflow project...\n",
      "Downloading Dataset Version Zip in livestalk-1 to yolov5pytorch: 100% [24533636 / 24533636] bytes\n"
     ]
    },
    {
     "name": "stderr",
     "output_type": "stream",
     "text": [
      "Extracting Dataset Version Zip to livestalk-1 in yolov5pytorch:: 100%|█| 1381/13"
     ]
    },
    {
     "name": "stdout",
     "output_type": "stream",
     "text": [
      "Version 1 extraction complete: \n",
      "- 549 training records \n",
      "- 137 validation records\n"
     ]
    },
    {
     "name": "stderr",
     "output_type": "stream",
     "text": [
      "\n"
     ]
    },
    {
     "name": "stdout",
     "output_type": "stream",
     "text": [
      "Downloading Dataset Version Zip in livestalk-2 to yolov5pytorch: 100% [26407695 / 26407695] bytes\n"
     ]
    },
    {
     "name": "stderr",
     "output_type": "stream",
     "text": [
      "Extracting Dataset Version Zip to livestalk-2 in yolov5pytorch:: 100%|█| 1487/14"
     ]
    },
    {
     "name": "stdout",
     "output_type": "stream",
     "text": [
      "Version 2 extraction complete: \n",
      "- 591 training records \n",
      "- 148 validation records\n"
     ]
    },
    {
     "name": "stderr",
     "output_type": "stream",
     "text": [
      "\n"
     ]
    },
    {
     "name": "stdout",
     "output_type": "stream",
     "text": [
      "Downloading Dataset Version Zip in livestalk-3 to yolov5pytorch: 100% [26434028 / 26434028] bytes\n"
     ]
    },
    {
     "name": "stderr",
     "output_type": "stream",
     "text": [
      "Extracting Dataset Version Zip to livestalk-3 in yolov5pytorch:: 100%|█| 1487/14"
     ]
    },
    {
     "name": "stdout",
     "output_type": "stream",
     "text": [
      "Version 3 extraction complete: \n",
      "- 591 training records \n",
      "- 148 validation records\n"
     ]
    },
    {
     "name": "stderr",
     "output_type": "stream",
     "text": [
      "\n"
     ]
    }
   ],
   "source": [
    "from roboflow import Roboflow\n",
    "import os\n",
    "\n",
    "rf = Roboflow(api_key=\"NsFcZFTbV5oOF4pZS7MY\")\n",
    "project_name = 'livestalk'\n",
    "num_versions = 3 #increase as versions go up\n",
    "project = rf.workspace().project(project_name)\n",
    "\n",
    "def get_version(project,num):\n",
    "    dataset = project.version(num).download(\"yolov5\")\n",
    "    \n",
    "    train_dir = f'{project_name}-{num}/train/images'\n",
    "    valid_dir = f'{project_name}-{num}/valid/images'\n",
    "    \n",
    "    train_count = len([name for name in os.listdir(train_dir)])\n",
    "    valid_count = len([name for name in os.listdir(valid_dir)])\n",
    "    \n",
    "    print(f'Version {num} extraction complete: \\n- {train_count:,} training records \\n- {valid_count:,} validation records')\n",
    "    return\n",
    "\n",
    "get_version(project,1)\n",
    "get_version(project,2)\n",
    "get_version(project,3)\n",
    "\n",
    "# (!!) add more versions here as  we label them (!!)"
   ]
  },
  {
   "cell_type": "markdown",
   "id": "fd306af5-8570-4882-a2f3-1c5c40b6e9bc",
   "metadata": {
    "tags": []
   },
   "source": [
    "### Combine versions into one\n",
    "\n",
    "The shell script `combine_data.sh` will create the directory livestalk-data and all subfolders, will move the contents of all `images` and `labels` folders, and create a new data.yaml file. Note that there is only one class currently -- `cow`.\n",
    "\n",
    "**NOTE** as more versions are added, the `combine_data.sh` file needs to be modified"
   ]
  },
  {
   "cell_type": "code",
   "execution_count": 3,
   "id": "77285911-f928-47f3-aca7-ff041a218e46",
   "metadata": {},
   "outputs": [
    {
     "name": "stdout",
     "output_type": "stream",
     "text": [
      "new directories created\n",
      "moving data from livestalk-1 to livestalk-data\n",
      "moving data from livestalk-2 to livestalk-data\n",
      "moving data from livestalk-3 to livestalk-data\n",
      "all versions combined into livestalk-data\n",
      "There are 643 files in the consolidated training dir\n",
      "There are 183 files in the consolidated validation dir\n"
     ]
    }
   ],
   "source": [
    "!chmod u+x combine_data.sh\n",
    "! ./combine_data.sh"
   ]
  }
 ],
 "metadata": {
  "kernelspec": {
   "display_name": "Python 3 (ipykernel)",
   "language": "python",
   "name": "python3"
  },
  "language_info": {
   "codemirror_mode": {
    "name": "ipython",
    "version": 3
   },
   "file_extension": ".py",
   "mimetype": "text/x-python",
   "name": "python",
   "nbconvert_exporter": "python",
   "pygments_lexer": "ipython3",
   "version": "3.9.6"
  }
 },
 "nbformat": 4,
 "nbformat_minor": 5
}
