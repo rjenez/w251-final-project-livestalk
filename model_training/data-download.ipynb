{
 "cells": [
  {
   "cell_type": "code",
   "execution_count": null,
   "id": "e4021bbf-44e2-4e32-a734-fd580c22ab19",
   "metadata": {},
   "outputs": [],
   "source": [
    "#run if needed to clone yolov5 into folder\n",
    "!git clone https://github.com/ultralytics/yolov5 --branch v6.0"
   ]
  },
  {
   "cell_type": "code",
   "execution_count": null,
   "id": "98c20301-ee5f-4d17-91cd-2c23fcb06119",
   "metadata": {},
   "outputs": [],
   "source": [
    "api_key = input(\"Enter API Key: \")\n",
    "\n",
    "\n",
    "from roboflow import Roboflow\n",
    "rf = Roboflow(api_key=api_key)\n",
    "project = rf.workspace().project(\"livestalk_3\")\n",
    "dataset = project.version(1).download(\"yolov5\")"
   ]
  },
  {
   "cell_type": "code",
   "execution_count": null,
   "id": "b9d717c2-d013-4d92-8de8-7c8eec80489f",
   "metadata": {},
   "outputs": [],
   "source": [
    "project = rf.workspace().project(\"livestalk_2\")\n",
    "dataset = project.version(7).download(\"yolov5\")"
   ]
  }
 ],
 "metadata": {
  "kernelspec": {
   "display_name": "Python 3 (ipykernel)",
   "language": "python",
   "name": "python3"
  },
  "language_info": {
   "codemirror_mode": {
    "name": "ipython",
    "version": 3
   },
   "file_extension": ".py",
   "mimetype": "text/x-python",
   "name": "python",
   "nbconvert_exporter": "python",
   "pygments_lexer": "ipython3",
   "version": "3.9.6"
  }
 },
 "nbformat": 4,
 "nbformat_minor": 5
}
