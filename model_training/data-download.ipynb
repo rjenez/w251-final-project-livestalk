{
 "cells": [
  {
   "cell_type": "code",
   "execution_count": null,
   "id": "98c20301-ee5f-4d17-91cd-2c23fcb06119",
   "metadata": {},
   "outputs": [],
   "source": [
    "api_key = input(\"Enter API Key: \")\n",
    "\n",
    "\n",
    "from roboflow import Roboflow\n",
    "rf = Roboflow(api_key=api_key)\n",
    "project = rf.workspace().project(\"livestalk_3\")\n",
    "dataset = project.version(1).download(\"yolov5\")"
   ]
  }
 ],
 "metadata": {
  "kernelspec": {
   "display_name": "Python 3 (ipykernel)",
   "language": "python",
   "name": "python3"
  },
  "language_info": {
   "codemirror_mode": {
    "name": "ipython",
    "version": 3
   },
   "file_extension": ".py",
   "mimetype": "text/x-python",
   "name": "python",
   "nbconvert_exporter": "python",
   "pygments_lexer": "ipython3",
   "version": "3.9.6"
  }
 },
 "nbformat": 4,
 "nbformat_minor": 5
}
