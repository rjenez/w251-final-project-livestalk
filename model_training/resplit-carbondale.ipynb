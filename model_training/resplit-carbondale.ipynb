{
 "cells": [
  {
   "cell_type": "code",
   "execution_count": 1,
   "id": "b032fe98-b029-46ed-a351-c589ca592361",
   "metadata": {},
   "outputs": [],
   "source": [
    "original = 'livestalk_2-6'\n",
    "new = 'livestalk-carbondale-raw-5'"
   ]
  },
  {
   "cell_type": "code",
   "execution_count": 2,
   "id": "39e59507-5c5d-4fd5-9e47-8673f6fa488d",
   "metadata": {},
   "outputs": [],
   "source": [
    "from shutil import copyfile\n",
    "import os\n",
    "import glob\n",
    "import pandas as pd"
   ]
  },
  {
   "cell_type": "code",
   "execution_count": 3,
   "id": "1e0f55c2-8d72-46fe-83ff-2e07573db573",
   "metadata": {
    "tags": []
   },
   "outputs": [],
   "source": [
    "def make_folder(path):\n",
    "    if not os.path.exists(path):\n",
    "        os.mkdir(path)\n",
    "        os.mkdir(os.path.join(path,'train'))\n",
    "        os.mkdir(os.path.join(path,'train','images'))\n",
    "        os.mkdir(os.path.join(path,'train','labels'))\n",
    "\n",
    "        os.mkdir(os.path.join(path,'valid'))\n",
    "        os.mkdir(os.path.join(path,'valid','images'))\n",
    "        os.mkdir(os.path.join(path,'valid','labels'))\n",
    "        \n",
    "        os.mkdir(os.path.join(path,'test'))\n",
    "        os.mkdir(os.path.join(path,'test','images'))\n",
    "        os.mkdir(os.path.join(path,'test','labels'))        \n",
    "        \n",
    "        print(f'folders created: {path}')\n",
    "        \n",
    "    else:\n",
    "        print(f'a folder already exists here: {path}')"
   ]
  },
  {
   "cell_type": "markdown",
   "id": "f58d5d08-3e86-466d-b913-2d73299033c6",
   "metadata": {
    "tags": []
   },
   "source": [
    "### Identify folder for original and resplit"
   ]
  },
  {
   "cell_type": "code",
   "execution_count": 4,
   "id": "07b33054-d7e8-40e4-bd4b-4047af38e6d7",
   "metadata": {},
   "outputs": [
    {
     "name": "stdout",
     "output_type": "stream",
     "text": [
      "folders created: /home/omar/datasci/w251-DL/livestalk/livestalk-carbondale-raw-5\n"
     ]
    }
   ],
   "source": [
    "orig_path = os.path.join(os.getcwd(),original)\n",
    "new_path = os.path.join(os.getcwd(),new)\n",
    "make_folder(new_path)\n",
    "\n",
    "yaml_txt = \"\"\"names:\n",
    "- cow\n",
    "nc: 1\n",
    "train: {0}/train/images\n",
    "val: {0}/valid/images\n",
    "test: {0}/test/images\n",
    "\"\"\".format(new_path)\n",
    "\n",
    "with open(os.path.join(new_path,'data.yaml'),'w') as f:\n",
    "    f.write(yaml_txt)\n",
    "\n",
    "\n",
    "\n",
    "train_path = os.path.join(orig_path,'train')\n",
    "valid_path = os.path.join(orig_path,'valid')\n",
    "test_path = os.path.join(orig_path,'test')"
   ]
  },
  {
   "cell_type": "markdown",
   "id": "684a6985-b509-4b1a-a3bb-1b2ffdffc04a",
   "metadata": {},
   "source": [
    "### Get counts in old folder"
   ]
  },
  {
   "cell_type": "code",
   "execution_count": 5,
   "id": "85a56a4a-7075-4fb7-aa50-70c19497bb0c",
   "metadata": {},
   "outputs": [
    {
     "name": "stdout",
     "output_type": "stream",
     "text": [
      "Counts in old location:\n",
      "Training: 168\n",
      "Validation: 66\n",
      "Test: 5\n",
      "Total number of images: 239\n"
     ]
    }
   ],
   "source": [
    "##### Splitting without randomization\n",
    "train_images = glob.glob(os.path.join(orig_path,'train','images','*.jpg'))\n",
    "train_labels = glob.glob(os.path.join(orig_path,'train','labels','*.txt'))\n",
    "\n",
    "valid_images = glob.glob(os.path.join(orig_path,'valid','images','*.jpg'))\n",
    "valid_labels = glob.glob(os.path.join(orig_path,'valid','labels','*.txt'))\n",
    "\n",
    "test_images = glob.glob(os.path.join(orig_path,'test','images','*.jpg'))\n",
    "test_labels = glob.glob(os.path.join(orig_path,'test','labels','*.txt'))\n",
    "\n",
    "\n",
    "all_images = train_images + valid_images + test_images\n",
    "all_labels = train_labels + valid_labels + test_labels\n",
    "\n",
    "all_images = sorted(all_images)\n",
    "all_labels = sorted(all_labels)\n",
    "\n",
    "assert len(all_images) == len(all_labels)\n",
    "\n",
    "print('Counts in old location:')\n",
    "print(f'Training: {len(train_images)}')\n",
    "print(f'Validation: {len(valid_images)}')\n",
    "print(f'Test: {len(test_images)}')\n",
    "print(f'Total number of images: {len(all_images)}')\n"
   ]
  },
  {
   "cell_type": "markdown",
   "id": "8e141dd5-3ef4-43ff-b773-866248c5704b",
   "metadata": {},
   "source": [
    "### Copy files to new location"
   ]
  },
  {
   "cell_type": "code",
   "execution_count": 6,
   "id": "dafe84a9-e50a-48a9-81ad-d2b9069f82c4",
   "metadata": {},
   "outputs": [],
   "source": [
    "\n",
    "def copy_files(images,labels,new_path,percent_train=0.8):\n",
    "    assert len(images) == len(labels)\n",
    "    \n",
    "    images = sorted(images)\n",
    "    labels = sorted(labels)\n",
    "    \n",
    "    num_train = round(len(images)*percent_train)\n",
    "    count = 0\n",
    "    \n",
    "    for image,label in zip(images,labels):\n",
    "        if count < num_train:\n",
    "            location = 'train'\n",
    "        else:\n",
    "            location = 'valid'\n",
    "        \n",
    "        count += 1\n",
    "        \n",
    "        image_file = image.rsplit('/',1)[-1].rsplit('.',1)[0]\n",
    "        label_file = label.rsplit('/',1)[-1].rsplit('.',1)[0]\n",
    "    \n",
    "        assert image_file == label_file, 'lists not aligned'\n",
    "    \n",
    "        new_image_path = os.path.join(new_path,location,'images',image.rsplit('/',1)[-1])\n",
    "        new_label_path = os.path.join(new_path,location,'labels',label.rsplit('/',1)[-1])\n",
    "        \n",
    "        copyfile(image,new_image_path)\n",
    "        copyfile(label,new_label_path)\n",
    "    \n",
    "        #if valid, copy to test as well\n",
    "        if location == 'valid':\n",
    "            test_image_path = os.path.join(new_path,'test','images',image.rsplit('/',1)[-1])\n",
    "            test_label_path = os.path.join(new_path,'test','labels',label.rsplit('/',1)[-1])        \n",
    "            copyfile(image,test_image_path)\n",
    "            copyfile(label,test_label_path)\n",
    "                                      \n",
    "copy_files(all_images,all_labels,new_path)\n"
   ]
  },
  {
   "cell_type": "markdown",
   "id": "7980816e-ab8f-43d6-8b3b-b47b982c1794",
   "metadata": {},
   "source": [
    "### Get counts in new location"
   ]
  },
  {
   "cell_type": "code",
   "execution_count": 7,
   "id": "2f329f7f-f8bd-4ccf-a2c5-948d5c5d7e5c",
   "metadata": {},
   "outputs": [
    {
     "name": "stdout",
     "output_type": "stream",
     "text": [
      "Totals\n",
      "Number of training images in new location: 191\n",
      "Number of validation images in new location: 48\n",
      "Number of test images in new location: 48\n"
     ]
    }
   ],
   "source": [
    "new_train = glob.glob(os.path.join(new_path,'train','images','*.jpg'))\n",
    "new_valid = glob.glob(os.path.join(new_path,'valid','images','*.jpg'))\n",
    "new_test = glob.glob(os.path.join(new_path,'test','images','*.jpg'))\n",
    "\n",
    "new_train_labels = glob.glob(os.path.join(new_path,'train','labels','*.txt'))\n",
    "new_valid_labels = glob.glob(os.path.join(new_path,'valid','labels','*.txt'))\n",
    "new_test_labels = glob.glob(os.path.join(new_path,'test','labels','*.txt'))\n",
    "\n",
    "print('Totals')\n",
    "print(f'Number of training images in new location: {len(new_train)}')\n",
    "print(f'Number of validation images in new location: {len(new_valid)}')\n",
    "print(f'Number of test images in new location: {len(new_test)}')"
   ]
  }
 ],
 "metadata": {
  "kernelspec": {
   "display_name": "Python 3 (ipykernel)",
   "language": "python",
   "name": "python3"
  },
  "language_info": {
   "codemirror_mode": {
    "name": "ipython",
    "version": 3
   },
   "file_extension": ".py",
   "mimetype": "text/x-python",
   "name": "python",
   "nbconvert_exporter": "python",
   "pygments_lexer": "ipython3",
   "version": "3.9.6"
  }
 },
 "nbformat": 4,
 "nbformat_minor": 5
}
